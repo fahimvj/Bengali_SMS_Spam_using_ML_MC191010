{
  "cells": [
    {
      "cell_type": "markdown",
      "metadata": {
        "id": "view-in-github",
        "colab_type": "text"
      },
      "source": [
        "<a href=\"https://colab.research.google.com/github/fahimvj/Bengali_SMS_Spam_using_ML_MC191010/blob/main/sms_spam_mc191010.ipynb\" target=\"_parent\"><img src=\"https://colab.research.google.com/assets/colab-badge.svg\" alt=\"Open In Colab\"/></a>"
      ]
    },
    {
      "cell_type": "code",
      "execution_count": 13,
      "metadata": {
        "id": "i6TgK-vx_eKR",
        "colab": {
          "base_uri": "https://localhost:8080/"
        },
        "collapsed": true,
        "outputId": "042bbe68-ce30-4a78-8d2c-fe6f92d9054b"
      },
      "outputs": [
        {
          "output_type": "stream",
          "name": "stdout",
          "text": [
            "Requirement already satisfied: bangla_stemmer in /usr/local/lib/python3.10/dist-packages (1.0)\n"
          ]
        }
      ],
      "source": [
        "!pip install bangla_stemmer"
      ]
    },
    {
      "cell_type": "code",
      "source": [
        "!pip install banglanltk"
      ],
      "metadata": {
        "colab": {
          "base_uri": "https://localhost:8080/"
        },
        "collapsed": true,
        "id": "-3O3P9PSCSPk",
        "outputId": "e5f695cd-2782-481b-ebf2-bc4e8b83f344"
      },
      "execution_count": 14,
      "outputs": [
        {
          "output_type": "stream",
          "name": "stdout",
          "text": [
            "Requirement already satisfied: banglanltk in /usr/local/lib/python3.10/dist-packages (0.0.4)\n"
          ]
        }
      ]
    },
    {
      "cell_type": "code",
      "source": [
        "#pip install streamlit -q"
      ],
      "metadata": {
        "id": "pyJY6ge9CPxV"
      },
      "execution_count": 15,
      "outputs": []
    },
    {
      "cell_type": "code",
      "source": [
        "#importing All the libraries for Cleaning, Pre-processing, modeling and classification\n",
        "import pandas as pd\n",
        "import numpy as np\n",
        "import matplotlib.pyplot as plt\n",
        "import os\n",
        "import seaborn as sns\n",
        "import scipy\n",
        "\n",
        "import nltk\n",
        "nltk.download('punkt')\n",
        "# data preprocessing\n",
        "import banglanltk as bn\n",
        "import string\n",
        "\n",
        "\n",
        "import re\n",
        "from collections import Counter\n",
        "from wordcloud import WordCloud\n",
        "from sklearn.preprocessing import LabelEncoder\n",
        "\n",
        "\n",
        "%matplotlib inline\n",
        "from sklearn import model_selection, preprocessing, linear_model, naive_bayes, metrics, svm\n",
        "from sklearn import decomposition, ensemble\n",
        "from sklearn.feature_extraction.text import TfidfVectorizer, CountVectorizer,TfidfTransformer\n",
        "from sklearn.feature_extraction import DictVectorizer\n",
        "from sklearn.model_selection import train_test_split\n",
        "from sklearn.model_selection import KFold, cross_val_score\n",
        "from sklearn.model_selection import GridSearchCV\n",
        "from sklearn.utils import shuffle\n",
        "from sklearn.pipeline import Pipeline\n",
        "from sklearn.tree import DecisionTreeClassifier\n",
        "from sklearn.naive_bayes import MultinomialNB\n",
        "from sklearn.linear_model import SGDClassifier\n",
        "from sklearn.model_selection import cross_val_score,KFold,GridSearchCV, train_test_split\n",
        "from sklearn.metrics import classification_report,confusion_matrix,accuracy_score\n",
        "from sklearn.ensemble import RandomForestClassifier\n",
        "from bangla_stemmer.stemmer import stemmer"
      ],
      "metadata": {
        "colab": {
          "base_uri": "https://localhost:8080/"
        },
        "id": "GUlRgPdAOAWP",
        "outputId": "6ac88c5f-f153-4cec-ae59-25977441db1d"
      },
      "execution_count": 28,
      "outputs": [
        {
          "output_type": "stream",
          "name": "stderr",
          "text": [
            "[nltk_data] Downloading package punkt to /root/nltk_data...\n",
            "[nltk_data]   Package punkt is already up-to-date!\n"
          ]
        }
      ]
    },
    {
      "cell_type": "code",
      "execution_count": 29,
      "metadata": {
        "colab": {
          "base_uri": "https://localhost:8080/",
          "height": 206
        },
        "id": "p9pnlCeZAI-F",
        "outputId": "e04bdb14-f600-47a5-ec5d-94ac548f7b86"
      },
      "outputs": [
        {
          "output_type": "execute_result",
          "data": {
            "text/plain": [
              "   type                                               text\n",
              "0  spam  আকর্ষণীয় ১৫% ছাড়* ৳১০০ পর্যন্ত! উপায় অ্যাপ দিয়...\n",
              "1  spam  আরিফিন শুভ অভিনীত ভালো থেকো দেখুন  রবি স্ক্রিন...\n",
              "2  spam  প্রতিদিনের ভাগ্য রাশিফল পেতে টিয়া পাখির কথা না...\n",
              "3   ham                         আলহামদুলিল্লাহ সব একই আছে।\n",
              "4   ham  কোভিড-১৯ ভ্যাকসিন নিবন্ধনঃ আপনার OTP কোড-00465..."
            ],
            "text/html": [
              "\n",
              "  <div id=\"df-1ac283fc-8735-474a-a27f-84ad31cf9b10\" class=\"colab-df-container\">\n",
              "    <div>\n",
              "<style scoped>\n",
              "    .dataframe tbody tr th:only-of-type {\n",
              "        vertical-align: middle;\n",
              "    }\n",
              "\n",
              "    .dataframe tbody tr th {\n",
              "        vertical-align: top;\n",
              "    }\n",
              "\n",
              "    .dataframe thead th {\n",
              "        text-align: right;\n",
              "    }\n",
              "</style>\n",
              "<table border=\"1\" class=\"dataframe\">\n",
              "  <thead>\n",
              "    <tr style=\"text-align: right;\">\n",
              "      <th></th>\n",
              "      <th>type</th>\n",
              "      <th>text</th>\n",
              "    </tr>\n",
              "  </thead>\n",
              "  <tbody>\n",
              "    <tr>\n",
              "      <th>0</th>\n",
              "      <td>spam</td>\n",
              "      <td>আকর্ষণীয় ১৫% ছাড়* ৳১০০ পর্যন্ত! উপায় অ্যাপ দিয়...</td>\n",
              "    </tr>\n",
              "    <tr>\n",
              "      <th>1</th>\n",
              "      <td>spam</td>\n",
              "      <td>আরিফিন শুভ অভিনীত ভালো থেকো দেখুন  রবি স্ক্রিন...</td>\n",
              "    </tr>\n",
              "    <tr>\n",
              "      <th>2</th>\n",
              "      <td>spam</td>\n",
              "      <td>প্রতিদিনের ভাগ্য রাশিফল পেতে টিয়া পাখির কথা না...</td>\n",
              "    </tr>\n",
              "    <tr>\n",
              "      <th>3</th>\n",
              "      <td>ham</td>\n",
              "      <td>আলহামদুলিল্লাহ সব একই আছে।</td>\n",
              "    </tr>\n",
              "    <tr>\n",
              "      <th>4</th>\n",
              "      <td>ham</td>\n",
              "      <td>কোভিড-১৯ ভ্যাকসিন নিবন্ধনঃ আপনার OTP কোড-00465...</td>\n",
              "    </tr>\n",
              "  </tbody>\n",
              "</table>\n",
              "</div>\n",
              "    <div class=\"colab-df-buttons\">\n",
              "\n",
              "  <div class=\"colab-df-container\">\n",
              "    <button class=\"colab-df-convert\" onclick=\"convertToInteractive('df-1ac283fc-8735-474a-a27f-84ad31cf9b10')\"\n",
              "            title=\"Convert this dataframe to an interactive table.\"\n",
              "            style=\"display:none;\">\n",
              "\n",
              "  <svg xmlns=\"http://www.w3.org/2000/svg\" height=\"24px\" viewBox=\"0 -960 960 960\">\n",
              "    <path d=\"M120-120v-720h720v720H120Zm60-500h600v-160H180v160Zm220 220h160v-160H400v160Zm0 220h160v-160H400v160ZM180-400h160v-160H180v160Zm440 0h160v-160H620v160ZM180-180h160v-160H180v160Zm440 0h160v-160H620v160Z\"/>\n",
              "  </svg>\n",
              "    </button>\n",
              "\n",
              "  <style>\n",
              "    .colab-df-container {\n",
              "      display:flex;\n",
              "      gap: 12px;\n",
              "    }\n",
              "\n",
              "    .colab-df-convert {\n",
              "      background-color: #E8F0FE;\n",
              "      border: none;\n",
              "      border-radius: 50%;\n",
              "      cursor: pointer;\n",
              "      display: none;\n",
              "      fill: #1967D2;\n",
              "      height: 32px;\n",
              "      padding: 0 0 0 0;\n",
              "      width: 32px;\n",
              "    }\n",
              "\n",
              "    .colab-df-convert:hover {\n",
              "      background-color: #E2EBFA;\n",
              "      box-shadow: 0px 1px 2px rgba(60, 64, 67, 0.3), 0px 1px 3px 1px rgba(60, 64, 67, 0.15);\n",
              "      fill: #174EA6;\n",
              "    }\n",
              "\n",
              "    .colab-df-buttons div {\n",
              "      margin-bottom: 4px;\n",
              "    }\n",
              "\n",
              "    [theme=dark] .colab-df-convert {\n",
              "      background-color: #3B4455;\n",
              "      fill: #D2E3FC;\n",
              "    }\n",
              "\n",
              "    [theme=dark] .colab-df-convert:hover {\n",
              "      background-color: #434B5C;\n",
              "      box-shadow: 0px 1px 3px 1px rgba(0, 0, 0, 0.15);\n",
              "      filter: drop-shadow(0px 1px 2px rgba(0, 0, 0, 0.3));\n",
              "      fill: #FFFFFF;\n",
              "    }\n",
              "  </style>\n",
              "\n",
              "    <script>\n",
              "      const buttonEl =\n",
              "        document.querySelector('#df-1ac283fc-8735-474a-a27f-84ad31cf9b10 button.colab-df-convert');\n",
              "      buttonEl.style.display =\n",
              "        google.colab.kernel.accessAllowed ? 'block' : 'none';\n",
              "\n",
              "      async function convertToInteractive(key) {\n",
              "        const element = document.querySelector('#df-1ac283fc-8735-474a-a27f-84ad31cf9b10');\n",
              "        const dataTable =\n",
              "          await google.colab.kernel.invokeFunction('convertToInteractive',\n",
              "                                                    [key], {});\n",
              "        if (!dataTable) return;\n",
              "\n",
              "        const docLinkHtml = 'Like what you see? Visit the ' +\n",
              "          '<a target=\"_blank\" href=https://colab.research.google.com/notebooks/data_table.ipynb>data table notebook</a>'\n",
              "          + ' to learn more about interactive tables.';\n",
              "        element.innerHTML = '';\n",
              "        dataTable['output_type'] = 'display_data';\n",
              "        await google.colab.output.renderOutput(dataTable, element);\n",
              "        const docLink = document.createElement('div');\n",
              "        docLink.innerHTML = docLinkHtml;\n",
              "        element.appendChild(docLink);\n",
              "      }\n",
              "    </script>\n",
              "  </div>\n",
              "\n",
              "\n",
              "<div id=\"df-e5cefaea-54f7-444d-bf6b-d056aac717ac\">\n",
              "  <button class=\"colab-df-quickchart\" onclick=\"quickchart('df-e5cefaea-54f7-444d-bf6b-d056aac717ac')\"\n",
              "            title=\"Suggest charts\"\n",
              "            style=\"display:none;\">\n",
              "\n",
              "<svg xmlns=\"http://www.w3.org/2000/svg\" height=\"24px\"viewBox=\"0 0 24 24\"\n",
              "     width=\"24px\">\n",
              "    <g>\n",
              "        <path d=\"M19 3H5c-1.1 0-2 .9-2 2v14c0 1.1.9 2 2 2h14c1.1 0 2-.9 2-2V5c0-1.1-.9-2-2-2zM9 17H7v-7h2v7zm4 0h-2V7h2v10zm4 0h-2v-4h2v4z\"/>\n",
              "    </g>\n",
              "</svg>\n",
              "  </button>\n",
              "\n",
              "<style>\n",
              "  .colab-df-quickchart {\n",
              "      --bg-color: #E8F0FE;\n",
              "      --fill-color: #1967D2;\n",
              "      --hover-bg-color: #E2EBFA;\n",
              "      --hover-fill-color: #174EA6;\n",
              "      --disabled-fill-color: #AAA;\n",
              "      --disabled-bg-color: #DDD;\n",
              "  }\n",
              "\n",
              "  [theme=dark] .colab-df-quickchart {\n",
              "      --bg-color: #3B4455;\n",
              "      --fill-color: #D2E3FC;\n",
              "      --hover-bg-color: #434B5C;\n",
              "      --hover-fill-color: #FFFFFF;\n",
              "      --disabled-bg-color: #3B4455;\n",
              "      --disabled-fill-color: #666;\n",
              "  }\n",
              "\n",
              "  .colab-df-quickchart {\n",
              "    background-color: var(--bg-color);\n",
              "    border: none;\n",
              "    border-radius: 50%;\n",
              "    cursor: pointer;\n",
              "    display: none;\n",
              "    fill: var(--fill-color);\n",
              "    height: 32px;\n",
              "    padding: 0;\n",
              "    width: 32px;\n",
              "  }\n",
              "\n",
              "  .colab-df-quickchart:hover {\n",
              "    background-color: var(--hover-bg-color);\n",
              "    box-shadow: 0 1px 2px rgba(60, 64, 67, 0.3), 0 1px 3px 1px rgba(60, 64, 67, 0.15);\n",
              "    fill: var(--button-hover-fill-color);\n",
              "  }\n",
              "\n",
              "  .colab-df-quickchart-complete:disabled,\n",
              "  .colab-df-quickchart-complete:disabled:hover {\n",
              "    background-color: var(--disabled-bg-color);\n",
              "    fill: var(--disabled-fill-color);\n",
              "    box-shadow: none;\n",
              "  }\n",
              "\n",
              "  .colab-df-spinner {\n",
              "    border: 2px solid var(--fill-color);\n",
              "    border-color: transparent;\n",
              "    border-bottom-color: var(--fill-color);\n",
              "    animation:\n",
              "      spin 1s steps(1) infinite;\n",
              "  }\n",
              "\n",
              "  @keyframes spin {\n",
              "    0% {\n",
              "      border-color: transparent;\n",
              "      border-bottom-color: var(--fill-color);\n",
              "      border-left-color: var(--fill-color);\n",
              "    }\n",
              "    20% {\n",
              "      border-color: transparent;\n",
              "      border-left-color: var(--fill-color);\n",
              "      border-top-color: var(--fill-color);\n",
              "    }\n",
              "    30% {\n",
              "      border-color: transparent;\n",
              "      border-left-color: var(--fill-color);\n",
              "      border-top-color: var(--fill-color);\n",
              "      border-right-color: var(--fill-color);\n",
              "    }\n",
              "    40% {\n",
              "      border-color: transparent;\n",
              "      border-right-color: var(--fill-color);\n",
              "      border-top-color: var(--fill-color);\n",
              "    }\n",
              "    60% {\n",
              "      border-color: transparent;\n",
              "      border-right-color: var(--fill-color);\n",
              "    }\n",
              "    80% {\n",
              "      border-color: transparent;\n",
              "      border-right-color: var(--fill-color);\n",
              "      border-bottom-color: var(--fill-color);\n",
              "    }\n",
              "    90% {\n",
              "      border-color: transparent;\n",
              "      border-bottom-color: var(--fill-color);\n",
              "    }\n",
              "  }\n",
              "</style>\n",
              "\n",
              "  <script>\n",
              "    async function quickchart(key) {\n",
              "      const quickchartButtonEl =\n",
              "        document.querySelector('#' + key + ' button');\n",
              "      quickchartButtonEl.disabled = true;  // To prevent multiple clicks.\n",
              "      quickchartButtonEl.classList.add('colab-df-spinner');\n",
              "      try {\n",
              "        const charts = await google.colab.kernel.invokeFunction(\n",
              "            'suggestCharts', [key], {});\n",
              "      } catch (error) {\n",
              "        console.error('Error during call to suggestCharts:', error);\n",
              "      }\n",
              "      quickchartButtonEl.classList.remove('colab-df-spinner');\n",
              "      quickchartButtonEl.classList.add('colab-df-quickchart-complete');\n",
              "    }\n",
              "    (() => {\n",
              "      let quickchartButtonEl =\n",
              "        document.querySelector('#df-e5cefaea-54f7-444d-bf6b-d056aac717ac button');\n",
              "      quickchartButtonEl.style.display =\n",
              "        google.colab.kernel.accessAllowed ? 'block' : 'none';\n",
              "    })();\n",
              "  </script>\n",
              "</div>\n",
              "\n",
              "    </div>\n",
              "  </div>\n"
            ],
            "application/vnd.google.colaboratory.intrinsic+json": {
              "type": "dataframe",
              "variable_name": "data",
              "summary": "{\n  \"name\": \"data\",\n  \"rows\": 1008,\n  \"fields\": [\n    {\n      \"column\": \"type\",\n      \"properties\": {\n        \"dtype\": \"category\",\n        \"num_unique_values\": 2,\n        \"samples\": [\n          \"ham\",\n          \"spam\"\n        ],\n        \"semantic_type\": \"\",\n        \"description\": \"\"\n      }\n    },\n    {\n      \"column\": \"text\",\n      \"properties\": {\n        \"dtype\": \"string\",\n        \"num_unique_values\": 957,\n        \"samples\": [\n          \"\\u09b8\\u09c1\\u09a8\\u09cd\\u09a6\\u09b0\\u09ac\\u09a8\\u09c7\\u09b0 \\u09ae\\u09a7\\u09c1 \\u0995\\u09cb\\u09a8\\u099f\\u09be?| wra\",\n          \"\\u0995\\u09cb\\u09a1: upay15\\t\\t\\n\\u0995\\u09cd\\u09b2\\u09bf\\u0995 \\u0995\\u09b0\\u09c1\\u09a8\\u0983 onelink.to/j7rwyf\\t\\t\\n\\u09ac\\u09bf\\u09b8\\u09cd\\u09a4\\u09be\\u09b0\\u09bf\\u09a4 \\u099c\\u09be\\u09a8\\u09a4\\u09c7 \\u0995\\u09b2 \\u0995\\u09b0\\u09c1\\u09a8\\u0983 \\u09e7\\u09ec\\u09ea\\u09ec\\u09e6\\t\\t\\n*\\u09b6\\u09b0\\u09cd\\u09a4 \\u09aa\\u09cd\\u09b0\\u09af\\u09cb\\u099c\\u09cd\\u09af\\t\\t| wra\"\n        ],\n        \"semantic_type\": \"\",\n        \"description\": \"\"\n      }\n    }\n  ]\n}"
            }
          },
          "metadata": {},
          "execution_count": 29
        }
      ],
      "source": [
        "data = pd.read_csv(\"bangla_spam.csv\")\n",
        "data.head()"
      ]
    },
    {
      "cell_type": "code",
      "execution_count": 30,
      "metadata": {
        "colab": {
          "base_uri": "https://localhost:8080/",
          "height": 206
        },
        "id": "MQQiq2mJA6dU",
        "outputId": "74860ecd-1ac9-419d-f1d3-9dcac6fcda5b"
      },
      "outputs": [
        {
          "output_type": "execute_result",
          "data": {
            "text/plain": [
              "   type                                               text\n",
              "0  spam  আকর্ষণীয় ১৫% ছাড়* ৳১০০ পর্যন্ত! উপায় অ্যাপ দিয়...\n",
              "1  spam  আরিফিন শুভ অভিনীত ভালো থেকো দেখুন  রবি স্ক্রিন...\n",
              "2  spam  প্রতিদিনের ভাগ্য রাশিফল পেতে টিয়া পাখির কথা না...\n",
              "3   ham                         আলহামদুলিল্লাহ সব একই আছে।\n",
              "4   ham  কোভিড-১৯ ভ্যাকসিন নিবন্ধনঃ আপনার OTP কোড-00465..."
            ],
            "text/html": [
              "\n",
              "  <div id=\"df-f1e34435-74b4-4713-9711-952e6e2b0a36\" class=\"colab-df-container\">\n",
              "    <div>\n",
              "<style scoped>\n",
              "    .dataframe tbody tr th:only-of-type {\n",
              "        vertical-align: middle;\n",
              "    }\n",
              "\n",
              "    .dataframe tbody tr th {\n",
              "        vertical-align: top;\n",
              "    }\n",
              "\n",
              "    .dataframe thead th {\n",
              "        text-align: right;\n",
              "    }\n",
              "</style>\n",
              "<table border=\"1\" class=\"dataframe\">\n",
              "  <thead>\n",
              "    <tr style=\"text-align: right;\">\n",
              "      <th></th>\n",
              "      <th>type</th>\n",
              "      <th>text</th>\n",
              "    </tr>\n",
              "  </thead>\n",
              "  <tbody>\n",
              "    <tr>\n",
              "      <th>0</th>\n",
              "      <td>spam</td>\n",
              "      <td>আকর্ষণীয় ১৫% ছাড়* ৳১০০ পর্যন্ত! উপায় অ্যাপ দিয়...</td>\n",
              "    </tr>\n",
              "    <tr>\n",
              "      <th>1</th>\n",
              "      <td>spam</td>\n",
              "      <td>আরিফিন শুভ অভিনীত ভালো থেকো দেখুন  রবি স্ক্রিন...</td>\n",
              "    </tr>\n",
              "    <tr>\n",
              "      <th>2</th>\n",
              "      <td>spam</td>\n",
              "      <td>প্রতিদিনের ভাগ্য রাশিফল পেতে টিয়া পাখির কথা না...</td>\n",
              "    </tr>\n",
              "    <tr>\n",
              "      <th>3</th>\n",
              "      <td>ham</td>\n",
              "      <td>আলহামদুলিল্লাহ সব একই আছে।</td>\n",
              "    </tr>\n",
              "    <tr>\n",
              "      <th>4</th>\n",
              "      <td>ham</td>\n",
              "      <td>কোভিড-১৯ ভ্যাকসিন নিবন্ধনঃ আপনার OTP কোড-00465...</td>\n",
              "    </tr>\n",
              "  </tbody>\n",
              "</table>\n",
              "</div>\n",
              "    <div class=\"colab-df-buttons\">\n",
              "\n",
              "  <div class=\"colab-df-container\">\n",
              "    <button class=\"colab-df-convert\" onclick=\"convertToInteractive('df-f1e34435-74b4-4713-9711-952e6e2b0a36')\"\n",
              "            title=\"Convert this dataframe to an interactive table.\"\n",
              "            style=\"display:none;\">\n",
              "\n",
              "  <svg xmlns=\"http://www.w3.org/2000/svg\" height=\"24px\" viewBox=\"0 -960 960 960\">\n",
              "    <path d=\"M120-120v-720h720v720H120Zm60-500h600v-160H180v160Zm220 220h160v-160H400v160Zm0 220h160v-160H400v160ZM180-400h160v-160H180v160Zm440 0h160v-160H620v160ZM180-180h160v-160H180v160Zm440 0h160v-160H620v160Z\"/>\n",
              "  </svg>\n",
              "    </button>\n",
              "\n",
              "  <style>\n",
              "    .colab-df-container {\n",
              "      display:flex;\n",
              "      gap: 12px;\n",
              "    }\n",
              "\n",
              "    .colab-df-convert {\n",
              "      background-color: #E8F0FE;\n",
              "      border: none;\n",
              "      border-radius: 50%;\n",
              "      cursor: pointer;\n",
              "      display: none;\n",
              "      fill: #1967D2;\n",
              "      height: 32px;\n",
              "      padding: 0 0 0 0;\n",
              "      width: 32px;\n",
              "    }\n",
              "\n",
              "    .colab-df-convert:hover {\n",
              "      background-color: #E2EBFA;\n",
              "      box-shadow: 0px 1px 2px rgba(60, 64, 67, 0.3), 0px 1px 3px 1px rgba(60, 64, 67, 0.15);\n",
              "      fill: #174EA6;\n",
              "    }\n",
              "\n",
              "    .colab-df-buttons div {\n",
              "      margin-bottom: 4px;\n",
              "    }\n",
              "\n",
              "    [theme=dark] .colab-df-convert {\n",
              "      background-color: #3B4455;\n",
              "      fill: #D2E3FC;\n",
              "    }\n",
              "\n",
              "    [theme=dark] .colab-df-convert:hover {\n",
              "      background-color: #434B5C;\n",
              "      box-shadow: 0px 1px 3px 1px rgba(0, 0, 0, 0.15);\n",
              "      filter: drop-shadow(0px 1px 2px rgba(0, 0, 0, 0.3));\n",
              "      fill: #FFFFFF;\n",
              "    }\n",
              "  </style>\n",
              "\n",
              "    <script>\n",
              "      const buttonEl =\n",
              "        document.querySelector('#df-f1e34435-74b4-4713-9711-952e6e2b0a36 button.colab-df-convert');\n",
              "      buttonEl.style.display =\n",
              "        google.colab.kernel.accessAllowed ? 'block' : 'none';\n",
              "\n",
              "      async function convertToInteractive(key) {\n",
              "        const element = document.querySelector('#df-f1e34435-74b4-4713-9711-952e6e2b0a36');\n",
              "        const dataTable =\n",
              "          await google.colab.kernel.invokeFunction('convertToInteractive',\n",
              "                                                    [key], {});\n",
              "        if (!dataTable) return;\n",
              "\n",
              "        const docLinkHtml = 'Like what you see? Visit the ' +\n",
              "          '<a target=\"_blank\" href=https://colab.research.google.com/notebooks/data_table.ipynb>data table notebook</a>'\n",
              "          + ' to learn more about interactive tables.';\n",
              "        element.innerHTML = '';\n",
              "        dataTable['output_type'] = 'display_data';\n",
              "        await google.colab.output.renderOutput(dataTable, element);\n",
              "        const docLink = document.createElement('div');\n",
              "        docLink.innerHTML = docLinkHtml;\n",
              "        element.appendChild(docLink);\n",
              "      }\n",
              "    </script>\n",
              "  </div>\n",
              "\n",
              "\n",
              "<div id=\"df-6a4d0ad9-b1e9-4f38-aa75-f33982297042\">\n",
              "  <button class=\"colab-df-quickchart\" onclick=\"quickchart('df-6a4d0ad9-b1e9-4f38-aa75-f33982297042')\"\n",
              "            title=\"Suggest charts\"\n",
              "            style=\"display:none;\">\n",
              "\n",
              "<svg xmlns=\"http://www.w3.org/2000/svg\" height=\"24px\"viewBox=\"0 0 24 24\"\n",
              "     width=\"24px\">\n",
              "    <g>\n",
              "        <path d=\"M19 3H5c-1.1 0-2 .9-2 2v14c0 1.1.9 2 2 2h14c1.1 0 2-.9 2-2V5c0-1.1-.9-2-2-2zM9 17H7v-7h2v7zm4 0h-2V7h2v10zm4 0h-2v-4h2v4z\"/>\n",
              "    </g>\n",
              "</svg>\n",
              "  </button>\n",
              "\n",
              "<style>\n",
              "  .colab-df-quickchart {\n",
              "      --bg-color: #E8F0FE;\n",
              "      --fill-color: #1967D2;\n",
              "      --hover-bg-color: #E2EBFA;\n",
              "      --hover-fill-color: #174EA6;\n",
              "      --disabled-fill-color: #AAA;\n",
              "      --disabled-bg-color: #DDD;\n",
              "  }\n",
              "\n",
              "  [theme=dark] .colab-df-quickchart {\n",
              "      --bg-color: #3B4455;\n",
              "      --fill-color: #D2E3FC;\n",
              "      --hover-bg-color: #434B5C;\n",
              "      --hover-fill-color: #FFFFFF;\n",
              "      --disabled-bg-color: #3B4455;\n",
              "      --disabled-fill-color: #666;\n",
              "  }\n",
              "\n",
              "  .colab-df-quickchart {\n",
              "    background-color: var(--bg-color);\n",
              "    border: none;\n",
              "    border-radius: 50%;\n",
              "    cursor: pointer;\n",
              "    display: none;\n",
              "    fill: var(--fill-color);\n",
              "    height: 32px;\n",
              "    padding: 0;\n",
              "    width: 32px;\n",
              "  }\n",
              "\n",
              "  .colab-df-quickchart:hover {\n",
              "    background-color: var(--hover-bg-color);\n",
              "    box-shadow: 0 1px 2px rgba(60, 64, 67, 0.3), 0 1px 3px 1px rgba(60, 64, 67, 0.15);\n",
              "    fill: var(--button-hover-fill-color);\n",
              "  }\n",
              "\n",
              "  .colab-df-quickchart-complete:disabled,\n",
              "  .colab-df-quickchart-complete:disabled:hover {\n",
              "    background-color: var(--disabled-bg-color);\n",
              "    fill: var(--disabled-fill-color);\n",
              "    box-shadow: none;\n",
              "  }\n",
              "\n",
              "  .colab-df-spinner {\n",
              "    border: 2px solid var(--fill-color);\n",
              "    border-color: transparent;\n",
              "    border-bottom-color: var(--fill-color);\n",
              "    animation:\n",
              "      spin 1s steps(1) infinite;\n",
              "  }\n",
              "\n",
              "  @keyframes spin {\n",
              "    0% {\n",
              "      border-color: transparent;\n",
              "      border-bottom-color: var(--fill-color);\n",
              "      border-left-color: var(--fill-color);\n",
              "    }\n",
              "    20% {\n",
              "      border-color: transparent;\n",
              "      border-left-color: var(--fill-color);\n",
              "      border-top-color: var(--fill-color);\n",
              "    }\n",
              "    30% {\n",
              "      border-color: transparent;\n",
              "      border-left-color: var(--fill-color);\n",
              "      border-top-color: var(--fill-color);\n",
              "      border-right-color: var(--fill-color);\n",
              "    }\n",
              "    40% {\n",
              "      border-color: transparent;\n",
              "      border-right-color: var(--fill-color);\n",
              "      border-top-color: var(--fill-color);\n",
              "    }\n",
              "    60% {\n",
              "      border-color: transparent;\n",
              "      border-right-color: var(--fill-color);\n",
              "    }\n",
              "    80% {\n",
              "      border-color: transparent;\n",
              "      border-right-color: var(--fill-color);\n",
              "      border-bottom-color: var(--fill-color);\n",
              "    }\n",
              "    90% {\n",
              "      border-color: transparent;\n",
              "      border-bottom-color: var(--fill-color);\n",
              "    }\n",
              "  }\n",
              "</style>\n",
              "\n",
              "  <script>\n",
              "    async function quickchart(key) {\n",
              "      const quickchartButtonEl =\n",
              "        document.querySelector('#' + key + ' button');\n",
              "      quickchartButtonEl.disabled = true;  // To prevent multiple clicks.\n",
              "      quickchartButtonEl.classList.add('colab-df-spinner');\n",
              "      try {\n",
              "        const charts = await google.colab.kernel.invokeFunction(\n",
              "            'suggestCharts', [key], {});\n",
              "      } catch (error) {\n",
              "        console.error('Error during call to suggestCharts:', error);\n",
              "      }\n",
              "      quickchartButtonEl.classList.remove('colab-df-spinner');\n",
              "      quickchartButtonEl.classList.add('colab-df-quickchart-complete');\n",
              "    }\n",
              "    (() => {\n",
              "      let quickchartButtonEl =\n",
              "        document.querySelector('#df-6a4d0ad9-b1e9-4f38-aa75-f33982297042 button');\n",
              "      quickchartButtonEl.style.display =\n",
              "        google.colab.kernel.accessAllowed ? 'block' : 'none';\n",
              "    })();\n",
              "  </script>\n",
              "</div>\n",
              "\n",
              "    </div>\n",
              "  </div>\n"
            ],
            "application/vnd.google.colaboratory.intrinsic+json": {
              "type": "dataframe",
              "variable_name": "data",
              "summary": "{\n  \"name\": \"data\",\n  \"rows\": 965,\n  \"fields\": [\n    {\n      \"column\": \"type\",\n      \"properties\": {\n        \"dtype\": \"category\",\n        \"num_unique_values\": 2,\n        \"samples\": [\n          \"ham\",\n          \"spam\"\n        ],\n        \"semantic_type\": \"\",\n        \"description\": \"\"\n      }\n    },\n    {\n      \"column\": \"text\",\n      \"properties\": {\n        \"dtype\": \"string\",\n        \"num_unique_values\": 957,\n        \"samples\": [\n          \"\\u09b8\\u09c1\\u09a8\\u09cd\\u09a6\\u09b0\\u09ac\\u09a8\\u09c7\\u09b0 \\u09ae\\u09a7\\u09c1 \\u0995\\u09cb\\u09a8\\u099f\\u09be?| wra\",\n          \"\\u0995\\u09cb\\u09a1: upay15\\t\\t\\n\\u0995\\u09cd\\u09b2\\u09bf\\u0995 \\u0995\\u09b0\\u09c1\\u09a8\\u0983 onelink.to/j7rwyf\\t\\t\\n\\u09ac\\u09bf\\u09b8\\u09cd\\u09a4\\u09be\\u09b0\\u09bf\\u09a4 \\u099c\\u09be\\u09a8\\u09a4\\u09c7 \\u0995\\u09b2 \\u0995\\u09b0\\u09c1\\u09a8\\u0983 \\u09e7\\u09ec\\u09ea\\u09ec\\u09e6\\t\\t\\n*\\u09b6\\u09b0\\u09cd\\u09a4 \\u09aa\\u09cd\\u09b0\\u09af\\u09cb\\u099c\\u09cd\\u09af\\t\\t| wra\"\n        ],\n        \"semantic_type\": \"\",\n        \"description\": \"\"\n      }\n    }\n  ]\n}"
            }
          },
          "metadata": {},
          "execution_count": 30
        }
      ],
      "source": [
        "#Initial Exploration (Data Clearning)\n",
        "\n",
        "data.isnull().sum()\n",
        "data.duplicated().sum()\n",
        "data = data.drop_duplicates(keep='first')\n",
        "data.head(5)"
      ]
    },
    {
      "cell_type": "code",
      "execution_count": 31,
      "metadata": {
        "colab": {
          "base_uri": "https://localhost:8080/",
          "height": 521
        },
        "id": "6gV8IJxDA9ix",
        "outputId": "7c3382bd-6427-4d56-be41-7335bd200973"
      },
      "outputs": [
        {
          "output_type": "display_data",
          "data": {
            "text/plain": [
              "<Figure size 800x600 with 1 Axes>"
            ],
            "image/png": "[encoded data removed]"
          },
          "metadata": {}
        }
      ],
      "source": [
        "#Exploratory Data Analysis (EDA)\n",
        "\n",
        "#1 data distribution\n",
        "data['type'].value_counts()\n",
        "\n",
        "# Plotting\n",
        "plt.figure(figsize=(8, 6))\n",
        "plt.pie(data['type'].value_counts(), labels=data['type'].value_counts().index, autopct='%1.1f%%', startangle=140)\n",
        "plt.title('Distribution of Spam and Non-Spam SMS')\n",
        "plt.axis('equal')\n",
        "plt.show()"
      ]
    },
    {
      "cell_type": "code",
      "execution_count": 34,
      "metadata": {
        "colab": {
          "base_uri": "https://localhost:8080/",
          "height": 507
        },
        "id": "ojIsq8XKBAA-",
        "outputId": "7d70a95a-f1b5-4a54-8d0e-5f5dc348706d"
      },
      "outputs": [
        {
          "output_type": "stream",
          "name": "stdout",
          "text": [
            "Average Length of Spam SMS: 113.09024390243903\n",
            "Average Length of Ham SMS: 70.40900900900901\n"
          ]
        },
        {
          "output_type": "display_data",
          "data": {
            "text/plain": [
              "<Figure size 640x480 with 1 Axes>"
            ],
            "image/png": "[encoded data removed]"
          },
          "metadata": {}
        }
      ],
      "source": [
        "#2 average length of sms for spam and ham\n",
        "data['Length'] = data['text'].apply(len)\n",
        "data['num_words'] = data['text'].apply(bn.word_tokenize).apply(len)\n",
        "data['num_sentence'] = data['text'].apply(bn.sent_tokenize).apply(len)\n",
        "data.head(2)\n",
        "avg_length_spam = data[data['type'] == 'spam']['Length'].mean()\n",
        "avg_length_ham = data[data['type'] == 'ham']['Length'].mean()\n",
        "#plotting\n",
        "print(\"Average Length of Spam SMS:\", avg_length_spam)\n",
        "print(\"Average Length of Ham SMS:\", avg_length_ham)\n",
        "plt.bar(['Spam', 'Ham'], [avg_length_spam, avg_length_ham], color=['Blue', 'green'])\n",
        "plt.title('Average Length of SMS for Spam and Ham')\n",
        "plt.xlabel('SMS Type')\n",
        "plt.ylabel('Average Length')\n",
        "plt.show()"
      ]
    },
    {
      "cell_type": "code",
      "execution_count": 35,
      "metadata": {
        "colab": {
          "base_uri": "https://localhost:8080/",
          "height": 507
        },
        "id": "2EEbO07dBesY",
        "outputId": "3d114574-6bdc-4c7f-8ec4-29a3285381b4"
      },
      "outputs": [
        {
          "output_type": "stream",
          "name": "stdout",
          "text": [
            "Average Words of Spam SMS: 16.25609756097561\n",
            "Average Words of Ham SMS: 12.158558558558559\n"
          ]
        },
        {
          "output_type": "display_data",
          "data": {
            "text/plain": [
              "<Figure size 640x480 with 1 Axes>"
            ],
            "image/png": "[encoded data removed]"
          },
          "metadata": {}
        }
      ],
      "source": [
        "#3 Average Word of SMS for Spam and Ham\n",
        "\n",
        "avg_word_spam = data[data['type'] == 'spam']['num_words'].mean()\n",
        "avg_word_ham = data[data['type'] == 'ham']['num_words'].mean()\n",
        "print(\"Average Words of Spam SMS:\", avg_word_spam)\n",
        "print(\"Average Words of Ham SMS:\", avg_word_ham)\n",
        "\n",
        "# Plotting the graph\n",
        "plt.bar(['Spam', 'Ham'], [avg_word_spam, avg_word_ham], color=['Blue', 'orange'])\n",
        "plt.title('Average Words of SMS for Spam and Ham')\n",
        "plt.xlabel('SMS Type')\n",
        "plt.ylabel('Average Words')\n",
        "plt.show()"
      ]
    },
    {
      "cell_type": "code",
      "execution_count": 36,
      "metadata": {
        "colab": {
          "base_uri": "https://localhost:8080/",
          "height": 507
        },
        "id": "U_XcT0zsBgC3",
        "outputId": "cd7031e4-c28e-4a7e-8b04-a75f444bd365"
      },
      "outputs": [
        {
          "output_type": "stream",
          "name": "stdout",
          "text": [
            "Average Sentence of Spam SMS: 1.8878048780487804\n",
            "Average Sentence of Ham SMS: 1.9207207207207206\n"
          ]
        },
        {
          "output_type": "display_data",
          "data": {
            "text/plain": [
              "<Figure size 640x480 with 1 Axes>"
            ],
            "image/png": "[encoded data removed]"
          },
          "metadata": {}
        }
      ],
      "source": [
        "# 4- Average Sentence of SMS for Spam and Ham\n",
        "\n",
        "avg_sentence_spam = data[data['type'] == 'spam']['num_sentence'].mean()\n",
        "avg_sentence_ham = data[data['type'] == 'ham']['num_sentence'].mean()\n",
        "print(\"Average Sentence of Spam SMS:\", avg_sentence_spam)\n",
        "print(\"Average Sentence of Ham SMS:\", avg_sentence_ham)\n",
        "\n",
        "# Plotting the graph\n",
        "plt.bar(['Spam', 'Ham'], [avg_sentence_spam, avg_sentence_ham], color=['Blue', 'black'])\n",
        "plt.title('Average Sentence of SMS for Spam and Ham')\n",
        "plt.xlabel('SMS Type')\n",
        "plt.ylabel('Average Sentence')\n",
        "plt.show()"
      ]
    },
    {
      "cell_type": "code",
      "execution_count": 37,
      "metadata": {
        "colab": {
          "base_uri": "https://localhost:8080/",
          "height": 489
        },
        "id": "0SXRFO-sBhkv",
        "outputId": "81a003dc-b878-46b4-a07f-658ab22617ed"
      },
      "outputs": [
        {
          "output_type": "stream",
          "name": "stdout",
          "text": [
            "Correlation coefficient between SMS length and spam classification: 0.17091612697054318\n"
          ]
        },
        {
          "output_type": "display_data",
          "data": {
            "text/plain": [
              "<Figure size 640x480 with 1 Axes>"
            ],
            "image/png": "[encoded data removed]"
          },
          "metadata": {}
        }
      ],
      "source": [
        "# 5- Relationship between Length and Spam\n",
        "correlation = data['Length'].corr((data['type'] == 'spam').astype(int))\n",
        "print(\"Correlation coefficient between SMS length and spam classification:\", correlation)\n",
        "\n",
        "\n",
        "sns.violinplot(data=data, x='Length', y='type', hue='type')\n",
        "plt.xlabel('SMS Length')\n",
        "plt.ylabel('Spam Classification')\n",
        "plt.title('Relationship between SMS Length and Spam Classification')\n",
        "plt.show()\n",
        "\n"
      ]
    },
    {
      "cell_type": "code",
      "execution_count": 38,
      "metadata": {
        "colab": {
          "base_uri": "https://localhost:8080/",
          "height": 633
        },
        "id": "mYxaVKS9BkpX",
        "outputId": "9b2a722b-091c-48fb-8ca3-95759fcaf068"
      },
      "outputs": [
        {
          "output_type": "stream",
          "name": "stdout",
          "text": [
            "The Relationship between Features are                  Length  num_words  num_sentence\n",
            "Length        1.000000   0.987797      0.448719\n",
            "num_words     0.987797   1.000000      0.466135\n",
            "num_sentence  0.448719   0.466135      1.000000\n"
          ]
        },
        {
          "output_type": "display_data",
          "data": {
            "text/plain": [
              "<Figure size 800x600 with 2 Axes>"
            ],
            "image/png": "[encoded data removed]"
          },
          "metadata": {}
        }
      ],
      "source": [
        "#6- Relationship between Features\n",
        "\n",
        "correlation_matrix = data[['Length', 'num_words', 'num_sentence']].corr()\n",
        "print(\"The Relationship between Features are \",correlation_matrix )\n",
        "# Visualize the correlation matrix using a heatmap\n",
        "plt.figure(figsize=(8, 6))\n",
        "sns.heatmap(correlation_matrix, annot=True, cmap='coolwarm', fmt=\".2f\", linewidths=.5)\n",
        "plt.title('Correlation Matrix of Features')\n",
        "plt.xlabel('Features')\n",
        "plt.ylabel('Features')\n",
        "plt.show()"
      ]
    },
    {
      "cell_type": "code",
      "execution_count": null,
      "metadata": {
        "collapsed": true,
        "id": "AgkubVlcBl5L"
      },
      "outputs": [],
      "source": [
        "#Data Preprocessing\n",
        "\n",
        "#cleaning text\n",
        "data['transform_text'] = data['text'].apply(bn.clean_text)\n",
        "\n",
        "# Tokenization\n",
        "data['transform_text'] = data['transform_text'].apply(bn.word_tokenize)\n",
        "\n",
        "# Stemming\n",
        "stmr = stemmer.BanglaStemmer()\n",
        "data['transform_text'] = data['transform_text'].apply(lambda x: [stmr.stem(word) for word in x])\n",
        "\n",
        "#Convert the preprocessed text back to string\n",
        "data['transform_text'] = data['transform_text'].apply(lambda x: ' '.join(x))\n"
      ]
    },
    {
      "cell_type": "code",
      "execution_count": 40,
      "metadata": {
        "colab": {
          "base_uri": "https://localhost:8080/"
        },
        "id": "yOtkt0bKMmBr",
        "outputId": "ed1ba01c-5846-40f2-ec6c-28c3dc839a73"
      },
      "outputs": [
        {
          "output_type": "stream",
          "name": "stdout",
          "text": [
            "                                                text  \\\n",
            "0  আকর্ষণীয় ১৫% ছাড়* ৳১০০ পর্যন্ত! উপায় অ্যাপ দিয়...   \n",
            "1  আরিফিন শুভ অভিনীত ভালো থেকো দেখুন  রবি স্ক্রিন...   \n",
            "2  প্রতিদিনের ভাগ্য রাশিফল পেতে টিয়া পাখির কথা না...   \n",
            "3                         আলহামদুলিল্লাহ সব একই আছে।   \n",
            "4  কোভিড-১৯ ভ্যাকসিন নিবন্ধনঃ আপনার OTP কোড-00465...   \n",
            "\n",
            "                                      transform_text  \n",
            "0  আকর্ষণীয় ১৫% ছাড় ৳১০০ পর্যন্ত উপায় অ্যাপ দিয়ে ...  \n",
            "1  আরিফিন শুভ অভিনীত ভালো থেকো দেখুন রবি স্ক্রিনে...  \n",
            "2  প্রতিদিন ভাগ্য রাশিফল পেত টিয়া পাখির কথা না শু...  \n",
            "3                            আলহামদুলিল্লাহ সব এক আছ  \n",
            "4  কোভিড১৯ ভ্যাকসিন নিবন্ধনঃ আপন OTP কোড004653 ধন...  \n"
          ]
        }
      ],
      "source": [
        "# Display the preprocessed data\n",
        "print(data[['text', 'transform_text']].head())"
      ]
    },
    {
      "cell_type": "code",
      "execution_count": 41,
      "metadata": {
        "colab": {
          "base_uri": "https://localhost:8080/"
        },
        "id": "7wcrd5bcLoiQ",
        "outputId": "9ebafd7c-ffe0-4f18-8f8f-ac4c2c4e7729"
      },
      "outputs": [
        {
          "output_type": "stream",
          "name": "stdout",
          "text": [
            "                                                text  \\\n",
            "0  আকর্ষণীয় ১৫% ছাড়* ৳১০০ পর্যন্ত! উপায় অ্যাপ দিয়...   \n",
            "1  আরিফিন শুভ অভিনীত ভালো থেকো দেখুন  রবি স্ক্রিন...   \n",
            "2  প্রতিদিনের ভাগ্য রাশিফল পেতে টিয়া পাখির কথা না...   \n",
            "3                         আলহামদুলিল্লাহ সব একই আছে।   \n",
            "4  কোভিড-১৯ ভ্যাকসিন নিবন্ধনঃ আপনার OTP কোড-00465...   \n",
            "\n",
            "                                      transform_text  \n",
            "0  আকর্ষণীয় ১৫% ছাড় ৳১০০ উপায় অ্যাপ বিডিটিকেটস পে...  \n",
            "1  আরিফিন শুভ অভিনীত ভালো থেকো দেখুন রবি স্ক্রিনে...  \n",
            "2  প্রতিদিন ভাগ্য রাশিফল পেত টিয়া পাখির কথা না শু...  \n",
            "3                                  আলহামদুলিল্লাহ আছ  \n",
            "4  কোভিড১৯ ভ্যাকসিন নিবন্ধনঃ আপন OTP কোড004653 ধন...  \n"
          ]
        }
      ],
      "source": [
        "#Removing Stopwords using bengali stopwords dataset\n",
        "data1 =pd.read_excel('stopwords_bangla.xlsx')\n",
        "stop = data1['words'].tolist()\n",
        "\n",
        "def stopwordRemoval(text):\n",
        "    x=str(text)\n",
        "    l=x.split()\n",
        "\n",
        "    stm=[elem for elem in l if elem not in stop]\n",
        "\n",
        "    out=' '.join(stm)\n",
        "\n",
        "    return str(out)\n",
        "\n",
        "\n",
        "data['transform_text'] = data['transform_text'].apply(stopwordRemoval)\n",
        "\n",
        "# Display the preprocessed data\n",
        "print(data[['text', 'transform_text']].head())"
      ]
    },
    {
      "cell_type": "code",
      "execution_count": 53,
      "metadata": {
        "colab": {
          "base_uri": "https://localhost:8080/"
        },
        "id": "KYa7Kp01JXxV",
        "outputId": "1afb8d91-7ae2-4c85-ed30-2b2e4685522f"
      },
      "outputs": [
        {
          "output_type": "stream",
          "name": "stdout",
          "text": [
            "                                                text  \\\n",
            "0  আকর্ষণীয় ১৫% ছাড়* ৳১০০ পর্যন্ত! উপায় অ্যাপ দিয়...   \n",
            "1  আরিফিন শুভ অভিনীত ভালো থেকো দেখুন  রবি স্ক্রিন...   \n",
            "2  প্রতিদিনের ভাগ্য রাশিফল পেতে টিয়া পাখির কথা না...   \n",
            "3                         আলহামদুলিল্লাহ সব একই আছে।   \n",
            "4  কোভিড-১৯ ভ্যাকসিন নিবন্ধনঃ আপনার OTP কোড-00465...   \n",
            "\n",
            "                                      transform_text  \n",
            "0  আকর্ষণীয়  ছাড়  উপায় অ্যাপ বিডিটিকেটস পেমেন্ট ছ...  \n",
            "1    আরিফিন শুভ অভিনীত ভালো থেকো দেখুন রবি স্ক্রিনে   \n",
            "2  প্রতিদিন ভাগ্য রাশিফল পেত টিয়া পাখির কথা না শু...  \n",
            "3                                  আলহামদুলিল্লাহ আছ  \n",
            "4           কোভিড ভ্যাকসিন নিবন্ধনঃ আপন  কোড ধন্যবাদ  \n"
          ]
        }
      ],
      "source": [
        "#Removing Unecessary charachters,Emojis,Punctuations with the help of Regex.\n",
        "\n",
        "def text_to_word_list(text):\n",
        "    text = text.split()\n",
        "    return text\n",
        "\n",
        "def replace_strings(text):\n",
        "    emoji_pattern = re.compile(\"[\"\n",
        "                           u\"\\U0001F600-\\U0001F64F\"  # emoticons\n",
        "                           u\"\\U0001F300-\\U0001F5FF\"  # symbols & pictographs\n",
        "                           u\"\\U0001F680-\\U0001F6FF\"  # transport & map symbols\n",
        "                           u\"\\U0001F1E0-\\U0001F1FF\"  # flags (iOS)\n",
        "                           u\"\\U00002702-\\U000027B0\"\n",
        "                           u\"\\U000024C2-\\U0001F251\"\n",
        "                           u\"\\u00C0-\\u017F\"          #latin\n",
        "                           u\"\\u2000-\\u206F\"          #generalPunctuations\n",
        "\n",
        "                           \"]+\", flags=re.UNICODE)\n",
        "    english_pattern=re.compile('[a-zA-Z0-9]+', flags=re.I)\n",
        "    #latin_pattern=re.compile('[A-Za-z\\u00C0-\\u00D6\\u00D8-\\u00f6\\u00f8-\\u00ff\\s]*',)\n",
        "\n",
        "    text=emoji_pattern.sub(r'', text)\n",
        "    text=english_pattern.sub(r'', text)\n",
        "\n",
        "    return text\n",
        "\n",
        "def remove_punctuations(my_str):\n",
        "    # define punctuation\n",
        "    punctuations = '''```\u0012\u0010\u0002\b`\u0007\b£|¢|\u0007Ñ+-*/=EROero৳০১২৩৪৫৬৭৮৯012–34567•89।!()-[]{};:'\"“\\’,<>./?@#$%^&*_~‘—॥”‰🤣⚽️✌�￰৷￰'''\n",
        "\n",
        "    no_punct = \"\"\n",
        "    for char in my_str:\n",
        "        if char not in punctuations:\n",
        "            no_punct = no_punct + char\n",
        "\n",
        "    # display the unpunctuated string\n",
        "    return no_punct\n",
        "\n",
        "\n",
        "\n",
        "def joining(text):\n",
        "    out=' '.join(text)\n",
        "    return out\n",
        "\n",
        "def preprocessing(text):\n",
        "    out=remove_punctuations(replace_strings(text))\n",
        "    return out\n",
        "\n",
        "data['transform_text'] = data['transform_text'].apply(preprocessing)\n",
        "\n",
        "# Display the preprocessed data\n",
        "print(data[['text', 'transform_text']].head())"
      ]
    },
    {
      "cell_type": "code",
      "execution_count": 43,
      "metadata": {
        "colab": {
          "base_uri": "https://localhost:8080/"
        },
        "id": "kaM2M-RvQYFr",
        "outputId": "f582f2ea-0b1d-409a-a95b-a3b35210a39f"
      },
      "outputs": [
        {
          "output_type": "stream",
          "name": "stdout",
          "text": [
            "Top 10 Most Common Words in Spam SMS:\n",
            "করুন: 126 occurrences\n",
            "টাকা: 84 occurrences\n",
            "অফ: 57 occurrences\n",
            "ডায়াল: 54 occurrences\n",
            "পেত: 50 occurrences\n",
            "কর: 50 occurrences\n",
            "নিন: 50 occurrences\n",
            "আপন: 44 occurrences\n",
            "থেক: 41 occurrences\n",
            "আকর্ষণীয়: 34 occurrences\n"
          ]
        }
      ],
      "source": [
        "def text_to_word_list(text):\n",
        "    text = text.split()\n",
        "    return text\n",
        "\n",
        "def replace_strings(text):\n",
        "    emoji_pattern = re.compile(\"[\"\n",
        "                           u\"\\U0001F600-\\U0001F64F\"  # emoticons\n",
        "                           u\"\\U0001F300-\\U0001F5FF\"  # symbols & pictographs\n",
        "                           u\"\\U0001F680-\\U0001F6FF\"  # transport & map symbols\n",
        "                           u\"\\U0001F1E0-\\U0001F1FF\"  # flags (iOS)\n",
        "                           u\"\\U00002702-\\U000027B0\"\n",
        "                           u\"\\U000024C2-\\U0001F251\"\n",
        "                           u\"\\u00C0-\\u017F\"          #latin\n",
        "                           u\"\\u2000-\\u206F\"          #generalPunctuations\n",
        "\n",
        "                           \"]+\", flags=re.UNICODE)\n",
        "    english_pattern=re.compile('[a-zA-Z0-9]+', flags=re.I)\n",
        "    #latin_pattern=re.compile('[A-Za-z\\u00C0-\\u00D6\\u00D8-\\u00f6\\u00f8-\\u00ff\\s]*',)\n",
        "\n",
        "    text=emoji_pattern.sub(r'', text)\n",
        "    text=english_pattern.sub(r'', text)\n",
        "\n",
        "    return text\n",
        "\n",
        "def remove_punctuations(my_str):\n",
        "    # define punctuation\n",
        "    punctuations = '''```\u0012\u0010\u0002\b`\u0007\b£|¢|\u0007Ñ+-*/=EROero৳০১২৩৪৫৬৭৮৯012–34567•89।!()-[]{};:'\"“\\’,<>./?@#$%^&*_~‘—॥”‰🤣⚽️✌�￰৷￰'''\n",
        "\n",
        "    no_punct = \"\"\n",
        "    for char in my_str:\n",
        "        if char not in punctuations:\n",
        "            no_punct = no_punct + char\n",
        "\n",
        "    # display the unpunctuated string\n",
        "    return no_punct\n",
        "\n",
        "\n",
        "\n",
        "def joining(text):\n",
        "    out=' '.join(text)\n",
        "    return out\n",
        "\n",
        "def preprocessing(text):\n",
        "    out=remove_punctuations(replace_strings(text))\n",
        "    return out#Most common words in SPAM SMS\n",
        "spam_sms = data[data['type'] == 'spam']['transform_text']\n",
        "spam_sms.head()\n",
        "# Tokenize the text in spam sms\n",
        "spam_words = ' '.join(spam_sms).split()\n",
        "# Count occurrences of each word\n",
        "word_counts = Counter(spam_words)\n",
        "# Find the most common words\n",
        "most_common_words = word_counts.most_common(10)\n",
        "print(\"Top 10 Most Common Words in Spam SMS:\")\n",
        "for word, count in most_common_words:\n",
        "    print(f\"{word}: {count} occurrences\")\n",
        "    # Generate Word Cloud\n"
      ]
    },
    {
      "cell_type": "code",
      "execution_count": 44,
      "metadata": {
        "colab": {
          "base_uri": "https://localhost:8080/"
        },
        "id": "W1fnBL-NUtcF",
        "outputId": "21e888bb-bc60-4e48-bbfa-21f2e6665012"
      },
      "outputs": [
        {
          "output_type": "stream",
          "name": "stdout",
          "text": [
            "Top 10 Most Common Words in Spam SMS:\n",
            "না: 108 occurrences\n",
            "কর: 97 occurrences\n",
            "আম: 84 occurrences\n",
            "আমা: 55 occurrences\n",
            "টাকা: 54 occurrences\n",
            "থেক: 51 occurrences\n",
            "আছ: 25 occurrences\n",
            "বিল: 24 occurrences\n",
            "বল: 24 occurrences\n",
            "থাক: 23 occurrences\n"
          ]
        }
      ],
      "source": [
        "#Most common words in HAM SMS\n",
        "spam_sms = data[data['type'] == 'ham']['transform_text']\n",
        "spam_sms.head()\n",
        "# Tokenize the text in spam sms\n",
        "spam_words = ' '.join(spam_sms).split()\n",
        "# Count occurrences of each word\n",
        "word_counts = Counter(spam_words)\n",
        "# Find the most common words\n",
        "most_common_words = word_counts.most_common(10)\n",
        "print(\"Top 10 Most Common Words in Spam SMS:\")\n",
        "for word, count in most_common_words:\n",
        "    print(f\"{word}: {count} occurrences\")\n"
      ]
    },
    {
      "cell_type": "code",
      "execution_count": 45,
      "metadata": {
        "colab": {
          "base_uri": "https://localhost:8080/"
        },
        "id": "klJMhhwTX8lL",
        "outputId": "82a7ea4f-c3fb-4fbd-f19b-8da5b98a881d"
      },
      "outputs": [
        {
          "output_type": "stream",
          "name": "stdout",
          "text": [
            "Splitting Data Set into Train data and Test data for model building\n",
            "X_train,y_train:  (675, 1000) (675,)\n",
            "X_test,y_test:  (290, 1000) (290,)\n"
          ]
        }
      ],
      "source": [
        "encoder = LabelEncoder()\n",
        "data['type'] = encoder.fit_transform(data['type'])\n",
        "data.sample(2)\n",
        "\n",
        "#data spliting and vectorization\n",
        "tfidf = TfidfVectorizer(max_features=1000)\n",
        "X = tfidf.fit_transform(data['text']).toarray()\n",
        "y = data['type']\n",
        "X_train, X_test, y_train, y_test = train_test_split(X, y, test_size=0.3, random_state=42)\n",
        "\n",
        "print(\"Splitting Data Set into Train data and Test data for model building\")\n",
        "print(\"X_train,y_train: \",X_train.shape,y_train.shape)\n",
        "print(\"X_test,y_test: \",X_test.shape,y_test.shape)"
      ]
    },
    {
      "cell_type": "code",
      "execution_count": 46,
      "metadata": {
        "colab": {
          "base_uri": "https://localhost:8080/"
        },
        "id": "MArTj9sEZkbG",
        "outputId": "ff4c33d4-a4d4-4d6f-d19c-a39e2fe3510d"
      },
      "outputs": [
        {
          "output_type": "stream",
          "name": "stdout",
          "text": [
            "SVM Accuracy: 0.95\n",
            "Precision Score:  0.9739130434782609\n",
            "Recall Score:  0.9105691056910569\n",
            "F1 Score:  0.9411764705882353\n"
          ]
        }
      ],
      "source": [
        "from sklearn.svm import SVC\n",
        "from sklearn.metrics import accuracy_score,confusion_matrix,precision_score,f1_score,recall_score\n",
        "svc_classifier = SVC()\n",
        "svc_classifier.fit(X_train, y_train)\n",
        "y_pred_svc = svc_classifier.predict(X_test)\n",
        "accuracy_svc = accuracy_score(y_test, y_pred_svc)\n",
        "print(f\"SVM Accuracy: {accuracy_svc:.2f}\")\n",
        "#print(\"confusion Matrix :\",confusion_matrix(y_test,y_pred_svc))\n",
        "print(\"Precision Score: \",precision_score(y_test,y_pred_svc))\n",
        "print(\"Recall Score: \",recall_score(y_test,y_pred_svc))\n",
        "print(\"F1 Score: \",f1_score(y_test,y_pred_svc))"
      ]
    },
    {
      "cell_type": "code",
      "execution_count": 47,
      "metadata": {
        "colab": {
          "base_uri": "https://localhost:8080/"
        },
        "id": "4mUQ2z7ca3ya",
        "outputId": "466ce349-282a-4cf4-eb56-79c49f7c6c45"
      },
      "outputs": [
        {
          "output_type": "stream",
          "name": "stdout",
          "text": [
            "Random Forest Accuracy: 0.94\n",
            "Precision Score:  1.0\n",
            "Recall Score:  0.8699186991869918\n",
            "F1 Score:  0.9304347826086956\n"
          ]
        }
      ],
      "source": [
        "rf_classifier = RandomForestClassifier()\n",
        "rf_classifier.fit(X_train, y_train)\n",
        "y_pred_rf = rf_classifier.predict(X_test)\n",
        "accuracy_rf = accuracy_score(y_test, y_pred_rf)\n",
        "print(f\"Random Forest Accuracy: {accuracy_rf:.2f}\")\n",
        "#print(\"confusion Matrix :\",confusion_matrix(y_test,y_pred_rf))\n",
        "print(\"Precision Score: \",precision_score(y_test,y_pred_rf))\n",
        "print(\"Recall Score: \",recall_score(y_test,y_pred_rf))\n",
        "print(\"F1 Score: \",f1_score(y_test,y_pred_rf))"
      ]
    },
    {
      "cell_type": "code",
      "execution_count": 48,
      "metadata": {
        "colab": {
          "base_uri": "https://localhost:8080/"
        },
        "id": "rLL91zd9bAz1",
        "outputId": "2550eebf-af38-46de-8c05-d497772a90e4"
      },
      "outputs": [
        {
          "output_type": "stream",
          "name": "stdout",
          "text": [
            "Naive Bayes Accuracy: 0.90\n",
            "Precision Score:  0.9795918367346939\n",
            "Recall Score:  0.7804878048780488\n",
            "F1 Score:  0.8687782805429864\n"
          ]
        }
      ],
      "source": [
        "nb_classifier = MultinomialNB()\n",
        "nb_classifier.fit(X_train, y_train)\n",
        "y_pred_nb = nb_classifier.predict(X_test)\n",
        "accuracy_nb = accuracy_score(y_test, y_pred_nb)\n",
        "print(f\"Naive Bayes Accuracy: {accuracy_nb:.2f}\")\n",
        "#print(\"confusion Matrix :\",confusion_matrix(y_test,y_pred_nb))\n",
        "print(\"Precision Score: \",precision_score(y_test,y_pred_nb))\n",
        "print(\"Recall Score: \",recall_score(y_test,y_pred_nb))\n",
        "print(\"F1 Score: \",f1_score(y_test,y_pred_nb))"
      ]
    },
    {
      "cell_type": "code",
      "execution_count": null,
      "metadata": {
        "colab": {
          "base_uri": "https://localhost:8080/"
        },
        "id": "2xPjz15hRGyO",
        "outputId": "899ab5a8-b9b0-4642-e06c-e62b40fa6193"
      },
      "outputs": [
        {
          "output_type": "stream",
          "name": "stdout",
          "text": [
            "Decision Tree Accuracy: 0.88\n",
            "Precision Score: 0.8617886178861789\n",
            "Recall Score:  0.8617886178861789\n",
            "F1 Score:  0.861788617886179\n"
          ]
        }
      ],
      "source": [
        "from sklearn.tree import DecisionTreeClassifier\n",
        "\n",
        "# Initialize the Decision Tree Classifier\n",
        "dt_classifier = DecisionTreeClassifier()\n",
        "\n",
        "# Train the model\n",
        "dt_classifier.fit(X_train, y_train)\n",
        "\n",
        "# Predict on the test set\n",
        "y_pred_dt = dt_classifier.predict(X_test)\n",
        "\n",
        "# Evaluate the model\n",
        "accuracy_dt = accuracy_score(y_test, y_pred_dt)\n",
        "print(f\"Decision Tree Accuracy: {accuracy_dt:.2f}\")\n",
        "#print(\"Confusion Matrix:\", confusion_matrix(y_test, y_pred_dt))\n",
        "print(\"Precision Score:\", precision_score(y_test, y_pred_dt))\n",
        "print(\"Recall Score: \",recall_score(y_test,y_pred_dt))\n",
        "print(\"F1 Score: \",f1_score(y_test,y_pred_dt))"
      ]
    },
    {
      "cell_type": "code",
      "execution_count": null,
      "metadata": {
        "colab": {
          "base_uri": "https://localhost:8080/"
        },
        "id": "CN-_9X6CRVMF",
        "outputId": "6888c72e-0d46-4c16-e006-16ef692d8074"
      },
      "outputs": [
        {
          "output_type": "stream",
          "name": "stdout",
          "text": [
            "Epoch 1/5\n",
            "22/22 [==============================] - 1s 16ms/step - loss: 0.6817 - accuracy: 0.5778 - val_loss: 0.6694 - val_accuracy: 0.5759\n",
            "Epoch 2/5\n",
            "22/22 [==============================] - 0s 6ms/step - loss: 0.6471 - accuracy: 0.6104 - val_loss: 0.6264 - val_accuracy: 0.5828\n",
            "Epoch 3/5\n",
            "22/22 [==============================] - 0s 6ms/step - loss: 0.5843 - accuracy: 0.6385 - val_loss: 0.5419 - val_accuracy: 0.7103\n",
            "Epoch 4/5\n",
            "22/22 [==============================] - 0s 6ms/step - loss: 0.4672 - accuracy: 0.8370 - val_loss: 0.4090 - val_accuracy: 0.8793\n",
            "Epoch 5/5\n",
            "22/22 [==============================] - 0s 7ms/step - loss: 0.3091 - accuracy: 0.9289 - val_loss: 0.2850 - val_accuracy: 0.9069\n",
            "10/10 [==============================] - 0s 2ms/step\n",
            "Neural Network Accuracy: 0.93\n",
            "Precision Score: 0.9180327868852459\n",
            "Recall Score:  0.9105691056910569\n",
            "F1 Score:  0.9142857142857143\n"
          ]
        }
      ],
      "source": [
        "from tensorflow.keras.models import Sequential\n",
        "from tensorflow.keras.layers import Dense, Dropout\n",
        "\n",
        "# Initialize the neural network model\n",
        "nn_model = Sequential()\n",
        "\n",
        "# Add input layer and first hidden layer\n",
        "nn_model.add(Dense(128, input_dim=X_train.shape[1], activation='relu'))\n",
        "nn_model.add(Dropout(0.5))\n",
        "\n",
        "# Add second hidden layer\n",
        "nn_model.add(Dense(64, activation='relu'))\n",
        "nn_model.add(Dropout(0.5))\n",
        "\n",
        "# Add output layer\n",
        "nn_model.add(Dense(1, activation='sigmoid'))\n",
        "\n",
        "# Compile the model\n",
        "nn_model.compile(loss='binary_crossentropy', optimizer='adam', metrics=['accuracy'])\n",
        "\n",
        "# Train the model\n",
        "nn_model.fit(X_train, y_train, epochs=5, batch_size=32, validation_data=(X_test, y_test))\n",
        "\n",
        "# Predict on the test set\n",
        "y_pred_nn = (nn_model.predict(X_test) > 0.4).astype(\"int32\")\n",
        "\n",
        "# Evaluate the model\n",
        "accuracy_nn = accuracy_score(y_test, y_pred_nn)\n",
        "print(f\"Neural Network Accuracy: {accuracy_nn:.2f}\")\n",
        "#print(\"Confusion Matrix:\", confusion_matrix(y_test, y_pred_nn))\n",
        "print(\"Precision Score:\", precision_score(y_test, y_pred_nn))\n",
        "print(\"Recall Score: \",recall_score(y_test,y_pred_nn))\n",
        "print(\"F1 Score: \",f1_score(y_test,y_pred_nn))"
      ]
    },
    {
      "cell_type": "code",
      "execution_count": null,
      "metadata": {
        "colab": {
          "base_uri": "https://localhost:8080/"
        },
        "id": "15oiWAglSUTQ",
        "outputId": "6b3d18ee-ed32-4d25-fdb8-2edf61168339"
      },
      "outputs": [
        {
          "output_type": "stream",
          "name": "stdout",
          "text": [
            "Decision Tree Accuracy: 0.91\n",
            "Precision Score: 0.9047619047619048\n",
            "Recall Score:  0.8941176470588236\n",
            "F1 Score:  0.8994082840236687\n"
          ]
        }
      ],
      "source": [
        "from sklearn.tree import DecisionTreeClassifier\n",
        "\n",
        "# Initialize the Decision Tree Classifier\n",
        "dt_classifier = DecisionTreeClassifier()\n",
        "\n",
        "# Train the model\n",
        "dt_classifier.fit(X_train, y_train)\n",
        "\n",
        "# Predict on the test set\n",
        "y_pred_dt = dt_classifier.predict(X_test)\n",
        "\n",
        "# Evaluate the model\n",
        "accuracy_dt = accuracy_score(y_test, y_pred_dt)\n",
        "print(f\"Decision Tree Accuracy: {accuracy_dt:.2f}\")\n",
        "#print(\"Confusion Matrix:\", confusion_matrix(y_test, y_pred_dt))\n",
        "print(\"Precision Score:\", precision_score(y_test, y_pred_dt))\n",
        "print(\"Recall Score: \",recall_score(y_test,y_pred_dt))\n",
        "print(\"F1 Score: \",f1_score(y_test,y_pred_dt))"
      ]
    },
    {
      "cell_type": "code",
      "execution_count": null,
      "metadata": {
        "colab": {
          "base_uri": "https://localhost:8080/"
        },
        "id": "RNcrUvf9Si-E",
        "outputId": "6624c835-9113-4a64-e1ff-72502fc31057"
      },
      "outputs": [
        {
          "output_type": "stream",
          "name": "stdout",
          "text": [
            "Logistic Regression Accuracy: 0.92\n",
            "Precision Score: 0.9629629629629629\n",
            "Recall Score:  0.8455284552845529\n",
            "F1 Score:  0.9004329004329005\n"
          ]
        }
      ],
      "source": [
        "from sklearn.linear_model import LogisticRegression\n",
        "\n",
        "# Initialize the Logistic Regression model\n",
        "logreg_classifier = LogisticRegression()\n",
        "\n",
        "# Train the model\n",
        "logreg_classifier.fit(X_train, y_train)\n",
        "\n",
        "# Predict on the test set\n",
        "y_pred_logreg = logreg_classifier.predict(X_test)\n",
        "\n",
        "# Evaluate the model\n",
        "accuracy_logreg = accuracy_score(y_test, y_pred_logreg)\n",
        "print(f\"Logistic Regression Accuracy: {accuracy_logreg:.2f}\")\n",
        "#print(\"Confusion Matrix:\", confusion_matrix(y_test, y_pred_logreg))\n",
        "print(\"Precision Score:\", precision_score(y_test, y_pred_logreg))\n",
        "print(\"Recall Score: \",recall_score(y_test,y_pred_logreg))\n",
        "print(\"F1 Score: \",f1_score(y_test,y_pred_logreg))"
      ]
    },
    {
      "cell_type": "code",
      "execution_count": null,
      "metadata": {
        "colab": {
          "base_uri": "https://localhost:8080/"
        },
        "id": "xpoTLBEYSqjN",
        "outputId": "3e78af36-a104-401f-bcdf-5c4d4c3c5211"
      },
      "outputs": [
        {
          "output_type": "stream",
          "name": "stdout",
          "text": [
            "Epoch 1/5\n",
            "25/25 [==============================] - 11s 280ms/step - loss: 0.6300 - accuracy: 0.6477 - val_loss: 0.5235 - val_accuracy: 0.8031\n",
            "Epoch 2/5\n",
            "25/25 [==============================] - 5s 184ms/step - loss: 0.3027 - accuracy: 0.9249 - val_loss: 0.1209 - val_accuracy: 0.9637\n",
            "Epoch 3/5\n",
            "25/25 [==============================] - 4s 171ms/step - loss: 0.0860 - accuracy: 0.9793 - val_loss: 0.0650 - val_accuracy: 0.9896\n",
            "Epoch 4/5\n",
            "25/25 [==============================] - 8s 338ms/step - loss: 0.0680 - accuracy: 0.9806 - val_loss: 0.0398 - val_accuracy: 0.9948\n",
            "Epoch 5/5\n",
            "25/25 [==============================] - 5s 206ms/step - loss: 0.0393 - accuracy: 0.9870 - val_loss: 0.0296 - val_accuracy: 0.9896\n",
            "7/7 [==============================] - 1s 53ms/step\n",
            "GRU Accuracy: 0.99\n",
            "Precision Score: 0.9882352941176471\n",
            "Recall Score:  0.9882352941176471\n",
            "F1 Score:  0.9882352941176471\n"
          ]
        }
      ],
      "source": [
        "from tensorflow.keras.models import Sequential\n",
        "from tensorflow.keras.layers import GRU, Dense, Dropout, Embedding\n",
        "from tensorflow.keras.preprocessing.text import Tokenizer\n",
        "from tensorflow.keras.preprocessing.sequence import pad_sequences\n",
        "from sklearn.metrics import accuracy_score, confusion_matrix, precision_score\n",
        "\n",
        "# Tokenize the text data\n",
        "tokenizer = Tokenizer(num_words=5000)\n",
        "tokenizer.fit_on_texts(data['transform_text'])\n",
        "X = tokenizer.texts_to_sequences(data['transform_text'])\n",
        "# Pad sequences to ensure uniform input size\n",
        "X = pad_sequences(X, maxlen=100)\n",
        "# Encode the labels\n",
        "y = data['type']\n",
        "# Split the data into training and testing sets\n",
        "X_train, X_test, y_train, y_test = train_test_split(X, y, test_size=0.2, random_state=42)\n",
        "# Initialize the GRU model\n",
        "gru_model = Sequential()\n",
        "# Add embedding layer\n",
        "gru_model.add(Embedding(input_dim=5000, output_dim=128, input_length=100))\n",
        "# Add GRU layer\n",
        "gru_model.add(GRU(128, return_sequences=True))\n",
        "gru_model.add(Dropout(0.5))\n",
        "# Add another GRU layer\n",
        "gru_model.add(GRU(64))\n",
        "gru_model.add(Dropout(0.5))\n",
        "# Add output layer\n",
        "gru_model.add(Dense(1, activation='sigmoid'))\n",
        "# Compile the model\n",
        "gru_model.compile(loss='binary_crossentropy', optimizer='adam', metrics=['accuracy'])\n",
        "# Train the model\n",
        "gru_model.fit(X_train, y_train, epochs=5, batch_size=32, validation_data=(X_test, y_test))\n",
        "# Predict on the test set\n",
        "y_pred_gru = (gru_model.predict(X_test) > 0.5).astype(\"int32\")\n",
        "\n",
        "# Evaluate the model\n",
        "accuracy_gru = accuracy_score(y_test, y_pred_gru)\n",
        "print(f\"GRU Accuracy: {accuracy_gru:.2f}\")\n",
        "#print(\"Confusion Matrix:\", confusion_matrix(y_test, y_pred_gru))\n",
        "print(\"Precision Score:\", precision_score(y_test, y_pred_gru))\n",
        "print(\"Recall Score: \",recall_score(y_test,y_pred_gru))\n",
        "print(\"F1 Score: \",f1_score(y_test,y_pred_gru))"
      ]
    },
    {
      "cell_type": "code",
      "execution_count": null,
      "metadata": {
        "colab": {
          "base_uri": "https://localhost:8080/"
        },
        "id": "GxH9XYDuT0-V",
        "outputId": "1799e2e8-e876-42b4-d99d-0e172d5a5855"
      },
      "outputs": [
        {
          "output_type": "stream",
          "name": "stdout",
          "text": [
            "Epoch 1/5\n",
            "25/25 [==============================] - 14s 333ms/step - loss: 0.6664 - accuracy: 0.6308 - val_loss: 0.6327 - val_accuracy: 0.6373\n",
            "Epoch 2/5\n",
            "25/25 [==============================] - 7s 295ms/step - loss: 0.4832 - accuracy: 0.8174 - val_loss: 0.2766 - val_accuracy: 0.8964\n",
            "Epoch 3/5\n",
            "25/25 [==============================] - 6s 236ms/step - loss: 0.1441 - accuracy: 0.9611 - val_loss: 0.0887 - val_accuracy: 0.9845\n",
            "Epoch 4/5\n",
            "25/25 [==============================] - 8s 304ms/step - loss: 0.0750 - accuracy: 0.9806 - val_loss: 0.0608 - val_accuracy: 0.9845\n",
            "Epoch 5/5\n",
            "25/25 [==============================] - 6s 230ms/step - loss: 0.0613 - accuracy: 0.9806 - val_loss: 0.0455 - val_accuracy: 0.9948\n",
            "7/7 [==============================] - 1s 62ms/step\n",
            "LSTM Accuracy: 0.99\n",
            "Precision Score: 0.9883720930232558\n",
            "Recall Score:  1.0\n",
            "F1 Score:  0.9941520467836257\n"
          ]
        }
      ],
      "source": [
        "from tensorflow.keras.models import Sequential\n",
        "from tensorflow.keras.layers import LSTM, Dense, Dropout, Embedding\n",
        "from tensorflow.keras.preprocessing.text import Tokenizer\n",
        "from tensorflow.keras.preprocessing.sequence import pad_sequences\n",
        "from sklearn.metrics import accuracy_score, confusion_matrix, precision_score\n",
        "\n",
        "# Tokenize the text data\n",
        "tokenizer = Tokenizer(num_words=5000)\n",
        "tokenizer.fit_on_texts(data['transform_text'])\n",
        "X = tokenizer.texts_to_sequences(data['transform_text'])\n",
        "\n",
        "# Pad sequences to ensure uniform input size\n",
        "X = pad_sequences(X, maxlen=100)\n",
        "\n",
        "# Encode the labels\n",
        "y = data['type']\n",
        "\n",
        "# Split the data into training and testing sets\n",
        "X_train, X_test, y_train, y_test = train_test_split(X, y, test_size=0.2, random_state=42)\n",
        "\n",
        "# Initialize the LSTM model\n",
        "lstm_model = Sequential()\n",
        "\n",
        "# Add embedding layer\n",
        "lstm_model.add(Embedding(input_dim=5000, output_dim=128, input_length=100))\n",
        "\n",
        "# Add LSTM layer\n",
        "lstm_model.add(LSTM(128, return_sequences=True))\n",
        "lstm_model.add(Dropout(0.5))\n",
        "\n",
        "# Add another LSTM layer\n",
        "lstm_model.add(LSTM(64))\n",
        "lstm_model.add(Dropout(0.5))\n",
        "\n",
        "# Add output layer\n",
        "lstm_model.add(Dense(1, activation='sigmoid'))\n",
        "\n",
        "# Compile the model\n",
        "lstm_model.compile(loss='binary_crossentropy', optimizer='adam', metrics=['accuracy'])\n",
        "\n",
        "# Train the model\n",
        "lstm_model.fit(X_train, y_train, epochs=5, batch_size=32, validation_data=(X_test, y_test))\n",
        "\n",
        "# Predict on the test set\n",
        "y_pred_lstm = (lstm_model.predict(X_test) > 0.5).astype(\"int32\")\n",
        "\n",
        "# Evaluate the model\n",
        "accuracy_lstm = accuracy_score(y_test, y_pred_lstm)\n",
        "print(f\"LSTM Accuracy: {accuracy_lstm:.2f}\")\n",
        "#print(\"Confusion Matrix:\", confusion_matrix(y_test, y_pred_lstm))\n",
        "print(\"Precision Score:\", precision_score(y_test, y_pred_lstm))\n",
        "print(\"Recall Score: \",recall_score(y_test,y_pred_lstm))\n",
        "print(\"F1 Score: \",f1_score(y_test,y_pred_lstm))\n"
      ]
    },
    {
      "cell_type": "code",
      "execution_count": 49,
      "metadata": {
        "colab": {
          "base_uri": "https://localhost:8080/"
        },
        "id": "FxfRYCfEYHBr",
        "outputId": "d9a8eccc-225d-45ce-d63b-28d99d200d74"
      },
      "outputs": [
        {
          "output_type": "stream",
          "name": "stdout",
          "text": [
            "'প্রিয় গ্রাহক, আপনার নম্বরে ৮৫০.০ টাকা লোকাল বিল প্রদান করা হয়েছে |ধন্যবাদ |' ---------------- is predicted as ham.\n",
            "'হ্যালু,ম্যাম আসসালামুয়ালাইকুম।' ---------------- is predicted as ham.\n",
            "'প্রতিদিনের ভাগ্য রাশিফল পেতে টিয়া পাখির কথা না শুনে *26397*6#  ডায়াল করে জেনেনিন আপনার রাশি,  চার্জ ৳২.৬৭ দৈনিক' ---------------- is predicted as spam.\n",
            "'নামাজ বেহেশতের চাবিকাঠি। ' ---------------- is predicted as ham.\n",
            "'*213*2843# ডায়াল করে জানুন সেলস/মার্কেটিং চাকুরীর খবর ২.৬৭ টাকা/দিন' ---------------- is predicted as spam.\n",
            "'তোমায় যদি-বুশরা শাহরিয়ার গানটি Airteltune সেট করতে dial *22788*951#' ---------------- is predicted as spam.\n",
            "'Facebook-এ দুই-ধাপ বিশিষ্ট যাচাইকরণের জন্য 799199 ব্যবহার করুন৷' ---------------- is predicted as ham.\n"
          ]
        }
      ],
      "source": [
        "#Using SVM model to test the output\n",
        "new_sms = [\n",
        "    \"প্রিয় গ্রাহক, আপনার নম্বরে ৮৫০.০ টাকা লোকাল বিল প্রদান করা হয়েছে |ধন্যবাদ |\",\n",
        "    \"হ্যালু,ম্যাম আসসালামুয়ালাইকুম।\",\n",
        "    \"প্রতিদিনের ভাগ্য রাশিফল পেতে টিয়া পাখির কথা না শুনে *26397*6#  ডায়াল করে জেনেনিন আপনার রাশি,  চার্জ ৳২.৬৭ দৈনিক\",\n",
        "    \"নামাজ বেহেশতের চাবিকাঠি। \",\n",
        "    \"*213*2843# ডায়াল করে জানুন সেলস/মার্কেটিং চাকুরীর খবর ২.৬৭ টাকা/দিন\",\n",
        "    \"তোমায় যদি-বুশরা শাহরিয়ার গানটি Airteltune সেট করতে dial *22788*951#\",\n",
        "    \"Facebook-এ দুই-ধাপ বিশিষ্ট যাচাইকরণের জন্য 799199 ব্যবহার করুন৷\"\n",
        "]\n",
        "\n",
        "# Convert new data into numerical vectors using the trained tfidf_vectorizer\n",
        "new_X = tfidf.transform(new_sms)\n",
        "new_X_dense = new_X.toarray()\n",
        "\n",
        "# Use the trained SVM model to make predictions\n",
        "svm_predictions = svc_classifier.predict(new_X_dense)\n",
        "\n",
        "# Print the predictions\n",
        "for email, prediction in zip(new_sms, svm_predictions):\n",
        "    if prediction == 1:\n",
        "        print(f\"'{email}' ---------------- is predicted as spam.\")\n",
        "    else:\n",
        "        print(f\"'{email}' ---------------- is predicted as ham.\")"
      ]
    },
    {
      "cell_type": "code",
      "execution_count": 50,
      "metadata": {
        "colab": {
          "base_uri": "https://localhost:8080/"
        },
        "id": "fYqVCmdoZf2M",
        "outputId": "fd91ad81-81b0-42b5-95a8-96d99c6f0a76"
      },
      "outputs": [
        {
          "output_type": "stream",
          "name": "stdout",
          "text": [
            "Enter the sms text: যাচাইকরণের \n",
            "\n",
            " The sms is predicted as ham.\n"
          ]
        }
      ],
      "source": [
        "def predict_sms(sms):\n",
        "    # Convert email into numerical vector using the trained TF-IDF vectorizer\n",
        "    sms_vector = tfidf.transform([sms])\n",
        "\n",
        "    # Convert sparse matrix to dense array\n",
        "    sms_vector_dense = sms_vector.toarray()\n",
        "\n",
        "    # Use the trained SVM model to make predictions\n",
        "    prediction = svc_classifier.predict(sms_vector_dense)\n",
        "\n",
        "    # Print the prediction\n",
        "    if prediction[0] == 1:\n",
        "        print(\"\\n The sms is predicted as spam.\")\n",
        "    else:\n",
        "        print(\"\\n The sms is predicted as ham.\")\n",
        "\n",
        "# Get user input for email\n",
        "user_sms = input(\"Enter the sms text: \")\n",
        "\n",
        "# Predict whether the input sms is spam or ham\n",
        "predict_sms(user_sms)"
      ]
    },
    {
      "cell_type": "code",
      "source": [
        "import pickle"
      ],
      "metadata": {
        "id": "2TLfNG0wHocK"
      },
      "execution_count": 51,
      "outputs": []
    },
    {
      "cell_type": "code",
      "source": [
        "pickle.dump(tfidf,open('vectorizer.pkl','wb'))\n",
        "pickle.dump(svc_classifier,open('model.pkl','wb'))\n"
      ],
      "metadata": {
        "id": "8yAu9BluHplT"
      },
      "execution_count": 54,
      "outputs": []
    },
    {
      "cell_type": "code",
      "source": [
        "!wget -q -O - ipv4.icanhazip.com"
      ],
      "metadata": {
        "colab": {
          "base_uri": "https://localhost:8080/"
        },
        "id": "Db1whxblKtSN",
        "outputId": "b7188515-3a93-4d60-e454-bce01c10ce0c"
      },
      "execution_count": 55,
      "outputs": [
        {
          "output_type": "stream",
          "name": "stdout",
          "text": [
            "34.16.197.134\n"
          ]
        }
      ]
    },
    {
      "cell_type": "code",
      "source": [
        "import streamlit as st"
      ],
      "metadata": {
        "id": "E4ecwUNuKpg8"
      },
      "execution_count": 56,
      "outputs": []
    },
    {
      "cell_type": "code",
      "source": [
        "!streamlit run app.py & npx localtunnel --port 8501\n",
        "\n",
        "#34.16.197.134"
      ],
      "metadata": {
        "colab": {
          "base_uri": "https://localhost:8080/"
        },
        "id": "-6uGEbQ0KzJE",
        "outputId": "421c0e5f-dfef-4a64-f9ae-9f368985022a"
      },
      "execution_count": 62,
      "outputs": [
        {
          "output_type": "stream",
          "name": "stdout",
          "text": [
            "\n",
            "Collecting usage statistics. To deactivate, set browser.gatherUsageStats to false.\n",
            "\u001b[0m\n",
            "\u001b[0m\n",
            "\u001b[34m\u001b[1m  You can now view your Streamlit app in your browser.\u001b[0m\n",
            "\u001b[0m\n",
            "\u001b[34m  Local URL: \u001b[0m\u001b[1mhttp://localhost:8501\u001b[0m\n",
            "\u001b[34m  Network URL: \u001b[0m\u001b[1mhttp://172.28.0.12:8501\u001b[0m\n",
            "\u001b[34m  External URL: \u001b[0m\u001b[1mhttp://34.16.197.134:8501\u001b[0m\n",
            "\u001b[0m\n",
            "\u001b[K\u001b[?25hnpx: installed 22 in 2.226s\n",
            "your url is: https://tidy-onions-tell.loca.lt\n",
            "\u001b[34m  Stopping...\u001b[0m\n",
            "^C\n"
          ]
        }
      ]
    }
  ],
  "metadata": {
    "colab": {
      "provenance": [],
      "mount_file_id": "14TmUC2sRsjvHCJoUegphLO40F7Ub63JI",
      "authorship_tag": "ABX9TyPI949VRUXjKlkymzfL/XeK",
      "include_colab_link": true
    },
    "kernelspec": {
      "display_name": "Python 3",
      "name": "python3"
    },
    "language_info": {
      "name": "python"
    }
  },
  "nbformat": 4,
  "nbformat_minor": 0
}